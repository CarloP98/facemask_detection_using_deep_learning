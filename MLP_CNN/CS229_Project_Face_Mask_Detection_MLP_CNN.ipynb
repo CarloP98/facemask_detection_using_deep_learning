{
 "cells": [
  {
   "cell_type": "markdown",
   "metadata": {},
   "source": [
    "## CS229 Machine Learning\n",
    "\n",
    "### Project - Develop Face Mask detection algorithm for COVID-19"
   ]
  },
  {
   "cell_type": "markdown",
   "metadata": {},
   "source": [
    "#### Models:\n",
    "   - 1.  MLP\n",
    "   - 2.  CNN"
   ]
  },
  {
   "cell_type": "markdown",
   "metadata": {},
   "source": [
    "**Team Memerbs:**\n",
    "   - Megala Anandakumar (06409804)\n",
    "   - Mohammad Pournazeri (06487506)\n",
    "   - Carlo Provenzani (06442416)\n",
    "    "
   ]
  },
  {
   "cell_type": "code",
   "execution_count": 1,
   "metadata": {},
   "outputs": [
    {
     "data": {
      "text/html": [
       "<style>.container { width:100% !important; }</style>"
      ],
      "text/plain": [
       "<IPython.core.display.HTML object>"
      ]
     },
     "metadata": {},
     "output_type": "display_data"
    }
   ],
   "source": [
    "from IPython.core.display import display, HTML\n",
    "display(HTML(\"<style>.container { width:100% !important; }</style>\"))"
   ]
  },
  {
   "cell_type": "markdown",
   "metadata": {},
   "source": [
    "**Import Libraries**"
   ]
  },
  {
   "cell_type": "code",
   "execution_count": 2,
   "metadata": {},
   "outputs": [],
   "source": [
    "import cv2\n",
    "import matplotlib.pyplot as plt\n",
    "import seaborn as sns\n",
    "import pandas as pd\n",
    "import numpy as np\n",
    "import os\n",
    "from sklearn.utils import shuffle\n",
    "from sklearn.model_selection import train_test_split\n",
    "import math\n",
    "%matplotlib inline"
   ]
  },
  {
   "cell_type": "markdown",
   "metadata": {},
   "source": [
    "**Load Data**"
   ]
  },
  {
   "cell_type": "code",
   "execution_count": 2,
   "metadata": {},
   "outputs": [],
   "source": [
    "#Loading the data\n",
    "img_size = (200,200)"
   ]
  },
  {
   "cell_type": "code",
   "execution_count": 3,
   "metadata": {},
   "outputs": [
    {
     "data": {
      "text/plain": [
       "['with_mask', 'without_mask']"
      ]
     },
     "execution_count": 3,
     "metadata": {},
     "output_type": "execute_result"
    }
   ],
   "source": [
    "os.listdir('data/Project Data/ms1data')"
   ]
  },
  {
   "cell_type": "code",
   "execution_count": 4,
   "metadata": {},
   "outputs": [],
   "source": [
    "mask_img_names = []\n",
    "no_mask_img_names = []\n",
    "mask_img = []\n",
    "no_mask_img = []"
   ]
  },
  {
   "cell_type": "code",
   "execution_count": 5,
   "metadata": {},
   "outputs": [],
   "source": [
    "def listfulldir(directory):\n",
    "    files = os.listdir(directory)\n",
    "    files = [os.path.join(directory,i) for i in files if i[0]!='.']\n",
    "    return files"
   ]
  },
  {
   "cell_type": "code",
   "execution_count": 6,
   "metadata": {},
   "outputs": [],
   "source": [
    "#Load Dataset 1\n",
    "mask_img_names += listfulldir('data/Project Data/MOHAMMAD DATA/Results/With Mask')\n",
    "no_mask_img_names += listfulldir('data/Project Data/MOHAMMAD DATA/Results/without mask')"
   ]
  },
  {
   "cell_type": "code",
   "execution_count": 7,
   "metadata": {},
   "outputs": [],
   "source": [
    "#Load Dataset 2\n",
    "mask_img_names += listfulldir('data/Project Data/CARLO DATA/mask_test-20201115T220910Z-001/mask_test')\n",
    "mask_img_names += listfulldir('data/Project Data/CARLO DATA/mask_train-20201115T220842Z-001/mask_train')\n",
    "no_mask_img_names += listfulldir('data/Project Data/CARLO DATA/no_mask_test-20201115T220903Z-001/no_mask_test')\n",
    "no_mask_img_names += listfulldir('data/Project Data/CARLO DATA/no_mask_train-20201115T220916Z-001/no_mask_train')"
   ]
  },
  {
   "cell_type": "code",
   "execution_count": 8,
   "metadata": {},
   "outputs": [],
   "source": [
    "#Load Dataset 3\n",
    "mask_img_names += listfulldir('data/Project Data/ms1data/with_mask')\n",
    "no_mask_img_names += listfulldir('data/Project Data/ms1data/without_mask')"
   ]
  },
  {
   "cell_type": "code",
   "execution_count": 9,
   "metadata": {},
   "outputs": [
    {
     "name": "stdout",
     "output_type": "stream",
     "text": [
      "4316 24705\n"
     ]
    }
   ],
   "source": [
    "print(len(no_mask_img_names),len(mask_img_names))"
   ]
  },
  {
   "cell_type": "code",
   "execution_count": 10,
   "metadata": {},
   "outputs": [],
   "source": [
    "#Load Dataset 4 for no mask from https://susanqq.github.io/UTKFace/\n",
    "utk_faces = listfulldir('data/Project Data/UTKFace')\n",
    "n = len(mask_img_names)-len(no_mask_img_names)\n",
    "no_mask_img_names += utk_faces[:n]"
   ]
  },
  {
   "cell_type": "code",
   "execution_count": 11,
   "metadata": {},
   "outputs": [
    {
     "name": "stdout",
     "output_type": "stream",
     "text": [
      "24705 24705\n"
     ]
    }
   ],
   "source": [
    "print(len(no_mask_img_names),len(mask_img_names))"
   ]
  },
  {
   "cell_type": "markdown",
   "metadata": {},
   "source": [
    "**Resize Image**"
   ]
  },
  {
   "cell_type": "code",
   "execution_count": 12,
   "metadata": {},
   "outputs": [],
   "source": [
    "def resize_image(img,size):\n",
    "    s = max(img.shape[0:2])\n",
    "    f = np.zeros((s,s,3),np.uint8)\n",
    "    ax,ay = (s - img.shape[1])//2,(s - img.shape[0])//2\n",
    "    f[ay:img.shape[0]+ay,ax:ax+img.shape[1]] = img\n",
    "    f = cv2.resize(f,size)\n",
    "    return f\n"
   ]
  },
  {
   "cell_type": "code",
   "execution_count": 13,
   "metadata": {},
   "outputs": [
    {
     "name": "stdout",
     "output_type": "stream",
     "text": [
      "data/Project Data/MOHAMMAD DATA/Results/without mask/image_434.jpg\n"
     ]
    }
   ],
   "source": [
    "print(no_mask_img_names[0])"
   ]
  },
  {
   "cell_type": "code",
   "execution_count": 14,
   "metadata": {},
   "outputs": [],
   "source": [
    "images = mask_img_names + no_mask_img_names"
   ]
  },
  {
   "cell_type": "code",
   "execution_count": 15,
   "metadata": {},
   "outputs": [],
   "source": [
    "labels = np.hstack((np.ones(len(mask_img_names)),np.zeros(len(no_mask_img_names))))"
   ]
  },
  {
   "cell_type": "code",
   "execution_count": 16,
   "metadata": {},
   "outputs": [],
   "source": [
    "#images,labels = shuffle(images,labels)"
   ]
  },
  {
   "cell_type": "code",
   "execution_count": 17,
   "metadata": {},
   "outputs": [
    {
     "name": "stdout",
     "output_type": "stream",
     "text": [
      "49410 49410\n"
     ]
    }
   ],
   "source": [
    "print(len(images),len(labels))"
   ]
  },
  {
   "cell_type": "code",
   "execution_count": 18,
   "metadata": {},
   "outputs": [],
   "source": [
    "X,Xt,Y,Yt = train_test_split(images,labels,train_size = .7,random_state=43)\n",
    "#X,Y,Xt,Yt = np.array(X),np.array(Y),np.array(Xt),np.array(Yt)"
   ]
  },
  {
   "cell_type": "code",
   "execution_count": 19,
   "metadata": {},
   "outputs": [],
   "source": [
    "import tensorflow as tf\n",
    "from keras.models import Sequential\n",
    "from keras.layers import Dense, Conv2D, Flatten\n",
    "from keras.utils import to_categorical"
   ]
  },
  {
   "cell_type": "markdown",
   "metadata": {},
   "source": [
    "### Model 1: MLP"
   ]
  },
  {
   "cell_type": "code",
   "execution_count": 20,
   "metadata": {},
   "outputs": [],
   "source": [
    "mlp = Sequential()"
   ]
  },
  {
   "cell_type": "code",
   "execution_count": 21,
   "metadata": {},
   "outputs": [],
   "source": [
    "mlp.add(Flatten())\n",
    "mlp.add(Dense(1000,activation='relu'))\n",
    "mlp.add(Dense(1,activation='sigmoid'))"
   ]
  },
  {
   "cell_type": "code",
   "execution_count": 22,
   "metadata": {},
   "outputs": [],
   "source": [
    "mlp.compile(optimizer='sgd',loss='binary_crossentropy',metrics=['acc'])"
   ]
  },
  {
   "cell_type": "code",
   "execution_count": 23,
   "metadata": {},
   "outputs": [],
   "source": [
    "batch_size = 32\n",
    "epochs = 10"
   ]
  },
  {
   "cell_type": "code",
   "execution_count": 24,
   "metadata": {},
   "outputs": [],
   "source": [
    "def generate_data(x,y,bs,do_shuffle = True):\n",
    "    while True:\n",
    "        if(do_shuffle):\n",
    "            x,y = shuffle(x,y)\n",
    "        for i in range(0,len(x),bs):\n",
    "            xs = []\n",
    "            x_images = x[i:i+bs]\n",
    "            ys = y[i:i+bs]\n",
    "            for j in range(len(ys)):\n",
    "                img = cv2.imread(x_images[j])\n",
    "                img = cv2.cvtColor(img, cv2.COLOR_BGR2RGB)\n",
    "                img = resize_image(img,img_size)\n",
    "                img = img.astype('float32')/255 \n",
    "                xs += [img]\n",
    "            xs = np.array(xs,dtype='float32')\n",
    "            yield xs,ys"
   ]
  },
  {
   "cell_type": "code",
   "execution_count": 25,
   "metadata": {},
   "outputs": [],
   "source": [
    "train_generator = generate_data(X,Y,batch_size)\n",
    "valid_generator = generate_data(Xt,Yt,batch_size)\n",
    "spe = math.ceil(len(X)/batch_size)\n",
    "spev = math.ceil(len(Xt)/batch_size)\n"
   ]
  },
  {
   "cell_type": "code",
   "execution_count": 26,
   "metadata": {},
   "outputs": [
    {
     "name": "stdout",
     "output_type": "stream",
     "text": [
      "WARNING:tensorflow:From <ipython-input-26-7f15bdbd2ff9>:1: Model.fit_generator (from tensorflow.python.keras.engine.training) is deprecated and will be removed in a future version.\n",
      "Instructions for updating:\n",
      "Please use Model.fit, which supports generators.\n",
      "Epoch 1/10\n",
      "1081/1081 [==============================] - 182s 168ms/step - loss: 0.2768 - acc: 0.8934 - val_loss: 0.2028 - val_acc: 0.9254\n",
      "Epoch 2/10\n",
      "1081/1081 [==============================] - 158s 146ms/step - loss: 0.1950 - acc: 0.9279 - val_loss: 0.2302 - val_acc: 0.9138\n",
      "Epoch 3/10\n",
      "1081/1081 [==============================] - 156s 144ms/step - loss: 0.1723 - acc: 0.9363 - val_loss: 0.1774 - val_acc: 0.9333\n",
      "Epoch 4/10\n",
      "1081/1081 [==============================] - 157s 145ms/step - loss: 0.1565 - acc: 0.9419 - val_loss: 0.1629 - val_acc: 0.9424\n",
      "Epoch 5/10\n",
      "1081/1081 [==============================] - 155s 144ms/step - loss: 0.1447 - acc: 0.9471 - val_loss: 0.1853 - val_acc: 0.9280\n",
      "Epoch 6/10\n",
      "1081/1081 [==============================] - 157s 145ms/step - loss: 0.1345 - acc: 0.9498 - val_loss: 0.1552 - val_acc: 0.9450\n",
      "Epoch 7/10\n",
      "1081/1081 [==============================] - 157s 145ms/step - loss: 0.1252 - acc: 0.9533 - val_loss: 0.1843 - val_acc: 0.9271\n",
      "Epoch 8/10\n",
      "1081/1081 [==============================] - 158s 146ms/step - loss: 0.1167 - acc: 0.9567 - val_loss: 0.1489 - val_acc: 0.9481\n",
      "Epoch 9/10\n",
      "1081/1081 [==============================] - 156s 145ms/step - loss: 0.1106 - acc: 0.9587 - val_loss: 0.1506 - val_acc: 0.9468\n",
      "Epoch 10/10\n",
      "1081/1081 [==============================] - 156s 144ms/step - loss: 0.1039 - acc: 0.9605 - val_loss: 0.1783 - val_acc: 0.9402\n"
     ]
    }
   ],
   "source": [
    "mlp_history = mlp.fit_generator(train_generator,spe,epochs,validation_data=valid_generator,validation_steps = spev)"
   ]
  },
  {
   "cell_type": "code",
   "execution_count": 27,
   "metadata": {},
   "outputs": [],
   "source": [
    "mlp.save('mlp_model.h5')"
   ]
  },
  {
   "cell_type": "code",
   "execution_count": 28,
   "metadata": {},
   "outputs": [],
   "source": [
    "def plot_accuracy_loss(model):  \n",
    "    #training loss and training accuracy\n",
    "    train_loss = model.history['loss']                # training loss\n",
    "    train_acc = model.history['acc']                     # training accuracy  \n",
    "    \n",
    "    #valiation loss and validation accuracy\n",
    "    val_loss = model.history['val_loss']                # val loss\n",
    "    val_acc = model.history['val_acc']                     # val accuracy \n",
    "    \n",
    "    \n",
    "    #Training and Validation Accuracy\n",
    "    plt.figure(figsize=(7,5))\n",
    "    plt.plot(range(1, len(train_acc) + 1), train_acc, 'b', label='Training Accuracy')\n",
    "    plt.plot(range(1, len(val_acc) + 1), val_acc, 'r', label='Validation Accuracy')\n",
    "    plt.xlabel('Epochs')\n",
    "    plt.title('Training and Validation Accuracy', fontsize =16)\n",
    "    plt.xlabel('Epochs',fontsize='14')\n",
    "    plt.ylabel('Training Accuracy',fontsize='14')\n",
    "    plt.legend(loc = 'best')\n",
    "    plt.show() \n",
    "    \n",
    "    #Training and Validation Loss\n",
    "    plt.figure(figsize=(7,5))\n",
    "    plt.plot(range(1, len(train_loss) + 1), train_loss, 'b-', label='Training Loss')\n",
    "    plt.plot(range(1, len(val_loss) + 1), val_loss, 'r-', label='Validation Loss')\n",
    "    plt.xlabel('Epochs')\n",
    "    plt.title('Training and Validation Loss', fontsize =16)\n",
    "    plt.xlabel('Epochs',fontsize='14')\n",
    "    plt.ylabel('Training Loss',fontsize='14')\n",
    "    plt.legend(loc = 'best')\n",
    "    plt.show() "
   ]
  },
  {
   "cell_type": "code",
   "execution_count": 29,
   "metadata": {},
   "outputs": [],
   "source": [
    "from sklearn.metrics import confusion_matrix\n",
    "from sklearn.metrics import classification_report\n",
    "import matplotlib.pyplot as plt\n",
    "\n",
    "def create_confusion_matrix(y, y_pred):   \n",
    "    cm = confusion_matrix(y, y_pred)\n",
    "    print(confusion_matrix)\n",
    "    \n",
    "    LABELS =  [] \n",
    "    fig, ax = plt.subplots(figsize=(5,5))         # Sample figsize in inches\n",
    "   # plt.figure(figsize =(4,4))\n",
    "    #sns.heatmap(confusion_matrix, xticklabels=LABELS, yticklabels=LABELS, annot =True, fmt='d',annot_kws={\"size\": 16} )\n",
    "    sns.heatmap(cm, xticklabels=LABELS, yticklabels=LABELS, annot =True, fmt='d',annot_kws={\"size\": 16}, cmap='Blues')\n",
    "    plt.title(\"Confusion Matrix\", fontsize=16)\n",
    "    plt.ylabel('True Class', fontsize=16)\n",
    "    plt.xlabel('Predicted Class',fontsize=16)\n",
    "    plt.show()\n",
    "    \n",
    "    cf = classification_report(y, y_pred)\n",
    "    print(cf)"
   ]
  },
  {
   "cell_type": "code",
   "execution_count": 30,
   "metadata": {},
   "outputs": [
    {
     "data": {
      "image/png": "[encoded data removed]",
      "text/plain": [
       "<Figure size 504x360 with 1 Axes>"
      ]
     },
     "metadata": {
      "needs_background": "light"
     },
     "output_type": "display_data"
    },
    {
     "data": {
      "image/png": "[encoded data removed]",
      "text/plain": [
       "<Figure size 504x360 with 1 Axes>"
      ]
     },
     "metadata": {
      "needs_background": "light"
     },
     "output_type": "display_data"
    }
   ],
   "source": [
    "plot_accuracy_loss(mlp_history)"
   ]
  },
  {
   "cell_type": "code",
   "execution_count": 31,
   "metadata": {},
   "outputs": [
    {
     "name": "stdout",
     "output_type": "stream",
     "text": [
      "464/464 [==============================] - 47s 100ms/step\n"
     ]
    }
   ],
   "source": [
    "valid_generator = generate_data(Xt,Yt,batch_size,do_shuffle=False)\n",
    "pred = mlp.predict(valid_generator,verbose=1,steps=spev)\n",
    "pred = np.rint(pred)"
   ]
  },
  {
   "cell_type": "code",
   "execution_count": 32,
   "metadata": {},
   "outputs": [
    {
     "name": "stdout",
     "output_type": "stream",
     "text": [
      "<function confusion_matrix at 0x7f86c7a32488>\n"
     ]
    },
    {
     "data": {
      "image/png": "[encoded data removed]",
      "text/plain": [
       "<Figure size 360x360 with 2 Axes>"
      ]
     },
     "metadata": {
      "needs_background": "light"
     },
     "output_type": "display_data"
    },
    {
     "name": "stdout",
     "output_type": "stream",
     "text": [
      "              precision    recall  f1-score   support\n",
      "\n",
      "         0.0       0.99      0.89      0.94      7413\n",
      "         1.0       0.90      0.99      0.94      7410\n",
      "\n",
      "    accuracy                           0.94     14823\n",
      "   macro avg       0.94      0.94      0.94     14823\n",
      "weighted avg       0.94      0.94      0.94     14823\n",
      "\n"
     ]
    }
   ],
   "source": [
    "create_confusion_matrix(Yt,pred)"
   ]
  },
  {
   "cell_type": "code",
   "execution_count": 33,
   "metadata": {},
   "outputs": [
    {
     "name": "stdout",
     "output_type": "stream",
     "text": [
      "Model: \"sequential\"\n",
      "_________________________________________________________________\n",
      "Layer (type)                 Output Shape              Param #   \n",
      "=================================================================\n",
      "flatten (Flatten)            (None, None)              0         \n",
      "_________________________________________________________________\n",
      "dense (Dense)                (None, 1000)              120001000 \n",
      "_________________________________________________________________\n",
      "dense_1 (Dense)              (None, 1)                 1001      \n",
      "=================================================================\n",
      "Total params: 120,002,001\n",
      "Trainable params: 120,002,001\n",
      "Non-trainable params: 0\n",
      "_________________________________________________________________\n"
     ]
    }
   ],
   "source": [
    "mlp.summary()"
   ]
  },
  {
   "cell_type": "markdown",
   "metadata": {},
   "source": [
    "### Model 1: CNN"
   ]
  },
  {
   "cell_type": "code",
   "execution_count": 50,
   "metadata": {},
   "outputs": [],
   "source": [
    "cnn = Sequential()\n",
    "cnn.add(Conv2D(64, kernel_size=3, activation='relu', input_shape=(img_size[0],img_size[0],3)))\n",
    "cnn.add(Conv2D(32, kernel_size=3, activation='relu'))\n",
    "cnn.add(Conv2D(16, kernel_size=3, activation='relu'))\n",
    "cnn.add(Flatten())\n",
    "cnn.add(Dense(1, activation='sigmoid'))"
   ]
  },
  {
   "cell_type": "code",
   "execution_count": 51,
   "metadata": {},
   "outputs": [],
   "source": [
    "cnn.compile(optimizer='sgd',loss='binary_crossentropy',metrics=['acc'])"
   ]
  },
  {
   "cell_type": "code",
   "execution_count": 28,
   "metadata": {},
   "outputs": [],
   "source": [
    "batch_size = 32\n",
    "epochs = 10"
   ]
  },
  {
   "cell_type": "code",
   "execution_count": 30,
   "metadata": {},
   "outputs": [],
   "source": [
    "def generate_data(x,y,bs,do_shuffle=True):\n",
    "    while True:\n",
    "        if do_shuffle:\n",
    "            x,y = shuffle(x,y)\n",
    "        for i in range(0,len(x),bs):\n",
    "            xs = []\n",
    "            x_images = x[i:i+bs]\n",
    "            ys = y[i:i+bs]\n",
    "            for j in range(len(ys)):\n",
    "                img = cv2.imread(x_images[j])\n",
    "                img = cv2.cvtColor(img, cv2.COLOR_BGR2RGB)\n",
    "                img = resize_image(img,img_size)\n",
    "                img = img.astype('float32')/255 \n",
    "                xs += [img]\n",
    "            xs = np.array(xs,dtype='float32')\n",
    "            yield xs,ys"
   ]
  },
  {
   "cell_type": "code",
   "execution_count": 32,
   "metadata": {},
   "outputs": [],
   "source": [
    "train_generator = generate_data(X,Y,batch_size)\n",
    "valid_generator = generate_data(Xt,Yt,batch_size)\n",
    "spe = math.ceil(len(X)/batch_size)\n",
    "spev = math.ceil(len(Xt)/batch_size)\n"
   ]
  },
  {
   "cell_type": "code",
   "execution_count": 55,
   "metadata": {},
   "outputs": [
    {
     "name": "stdout",
     "output_type": "stream",
     "text": [
      "Epoch 1/10\n",
      "   2/1081 [..............................] - ETA: 43s - loss: 0.9213 - acc: 0.4219WARNING:tensorflow:Callbacks method `on_train_batch_end` is slow compared to the batch time (batch time: 0.0162s vs `on_train_batch_end` time: 0.0375s). Check your callbacks.\n",
      "1081/1081 [==============================] - 154s 142ms/step - loss: 0.3043 - acc: 0.8722 - val_loss: 0.2044 - val_acc: 0.9268\n",
      "Epoch 2/10\n",
      "1081/1081 [==============================] - 158s 146ms/step - loss: 0.1945 - acc: 0.9293 - val_loss: 0.1868 - val_acc: 0.9329\n",
      "Epoch 3/10\n",
      "1081/1081 [==============================] - 153s 141ms/step - loss: 0.1727 - acc: 0.9375 - val_loss: 0.1745 - val_acc: 0.9342\n",
      "Epoch 4/10\n",
      "1081/1081 [==============================] - 153s 142ms/step - loss: 0.1598 - acc: 0.9421 - val_loss: 0.1622 - val_acc: 0.9416\n",
      "Epoch 5/10\n",
      "1081/1081 [==============================] - 154s 143ms/step - loss: 0.1445 - acc: 0.9487 - val_loss: 0.1505 - val_acc: 0.9470\n",
      "Epoch 6/10\n",
      "1081/1081 [==============================] - 163s 151ms/step - loss: 0.1305 - acc: 0.9525 - val_loss: 0.1476 - val_acc: 0.9493\n",
      "Epoch 7/10\n",
      "1081/1081 [==============================] - 153s 141ms/step - loss: 0.1146 - acc: 0.9586 - val_loss: 0.1442 - val_acc: 0.9472\n",
      "Epoch 8/10\n",
      "1081/1081 [==============================] - 153s 141ms/step - loss: 0.0993 - acc: 0.9636 - val_loss: 0.1567 - val_acc: 0.9472\n",
      "Epoch 9/10\n",
      "1081/1081 [==============================] - 154s 142ms/step - loss: 0.0839 - acc: 0.9694 - val_loss: 0.1523 - val_acc: 0.9483\n",
      "Epoch 10/10\n",
      "1081/1081 [==============================] - 152s 141ms/step - loss: 0.0671 - acc: 0.9763 - val_loss: 0.1571 - val_acc: 0.9505\n"
     ]
    }
   ],
   "source": [
    "cnn_history = cnn.fit_generator(train_generator,spe,epochs,validation_data=valid_generator,validation_steps = spev)"
   ]
  },
  {
   "cell_type": "code",
   "execution_count": 56,
   "metadata": {},
   "outputs": [],
   "source": [
    "cnn.save('cnn_model.h5')"
   ]
  },
  {
   "cell_type": "code",
   "execution_count": 57,
   "metadata": {},
   "outputs": [
    {
     "data": {
      "image/png": "[encoded data removed]",
      "text/plain": [
       "<Figure size 504x360 with 1 Axes>"
      ]
     },
     "metadata": {
      "needs_background": "light"
     },
     "output_type": "display_data"
    },
    {
     "data": {
      "image/png": "[encoded data removed]",
      "text/plain": [
       "<Figure size 504x360 with 1 Axes>"
      ]
     },
     "metadata": {
      "needs_background": "light"
     },
     "output_type": "display_data"
    }
   ],
   "source": [
    "plot_accuracy_loss(cnn_history)"
   ]
  },
  {
   "cell_type": "code",
   "execution_count": 33,
   "metadata": {},
   "outputs": [
    {
     "name": "stdout",
     "output_type": "stream",
     "text": [
      "  1/464 [..............................] - ETA: 0sWARNING:tensorflow:Callbacks method `on_predict_batch_end` is slow compared to the batch time (batch time: 0.0054s vs `on_predict_batch_end` time: 0.0100s). Check your callbacks.\n",
      "464/464 [==============================] - 57s 124ms/step\n"
     ]
    }
   ],
   "source": [
    "valid_generator = generate_data(Xt,Yt,batch_size,do_shuffle=False)\n",
    "pred = cnn.predict(valid_generator,verbose=1,steps=spev)"
   ]
  },
  {
   "cell_type": "code",
   "execution_count": 34,
   "metadata": {},
   "outputs": [],
   "source": [
    "pred = np.rint(pred)"
   ]
  },
  {
   "cell_type": "code",
   "execution_count": 35,
   "metadata": {},
   "outputs": [
    {
     "name": "stdout",
     "output_type": "stream",
     "text": [
      "<function confusion_matrix at 0x7f900d328488>\n"
     ]
    },
    {
     "data": {
      "image/png": "[encoded data removed]",
      "text/plain": [
       "<Figure size 360x360 with 2 Axes>"
      ]
     },
     "metadata": {
      "needs_background": "light"
     },
     "output_type": "display_data"
    },
    {
     "name": "stdout",
     "output_type": "stream",
     "text": [
      "              precision    recall  f1-score   support\n",
      "\n",
      "         0.0       0.96      0.94      0.95      7413\n",
      "         1.0       0.94      0.96      0.95      7410\n",
      "\n",
      "    accuracy                           0.95     14823\n",
      "   macro avg       0.95      0.95      0.95     14823\n",
      "weighted avg       0.95      0.95      0.95     14823\n",
      "\n"
     ]
    }
   ],
   "source": [
    "create_confusion_matrix(Yt,pred)"
   ]
  },
  {
   "cell_type": "code",
   "execution_count": 36,
   "metadata": {},
   "outputs": [
    {
     "name": "stdout",
     "output_type": "stream",
     "text": [
      "Model: \"sequential_3\"\n",
      "_________________________________________________________________\n",
      "Layer (type)                 Output Shape              Param #   \n",
      "=================================================================\n",
      "conv2d_4 (Conv2D)            (None, 198, 198, 64)      1792      \n",
      "_________________________________________________________________\n",
      "conv2d_5 (Conv2D)            (None, 196, 196, 32)      18464     \n",
      "_________________________________________________________________\n",
      "conv2d_6 (Conv2D)            (None, 194, 194, 16)      4624      \n",
      "_________________________________________________________________\n",
      "flatten_3 (Flatten)          (None, 602176)            0         \n",
      "_________________________________________________________________\n",
      "dense_4 (Dense)              (None, 1)                 602177    \n",
      "=================================================================\n",
      "Total params: 627,057\n",
      "Trainable params: 627,057\n",
      "Non-trainable params: 0\n",
      "_________________________________________________________________\n"
     ]
    }
   ],
   "source": [
    "cnn.summary()"
   ]
  },
  {
   "cell_type": "code",
   "execution_count": null,
   "metadata": {},
   "outputs": [],
   "source": []
  }
 ],
 "metadata": {
  "kernelspec": {
   "display_name": "Python 3",
   "language": "python",
   "name": "python3"
  },
  "language_info": {
   "codemirror_mode": {
    "name": "ipython",
    "version": 3
   },
   "file_extension": ".py",
   "mimetype": "text/x-python",
   "name": "python",
   "nbconvert_exporter": "python",
   "pygments_lexer": "ipython3",
   "version": "3.6.7"
  }
 },
 "nbformat": 4,
 "nbformat_minor": 4
}
